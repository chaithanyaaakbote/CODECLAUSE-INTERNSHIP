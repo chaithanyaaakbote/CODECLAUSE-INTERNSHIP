{
 "cells": [
  {
   "cell_type": "code",
   "execution_count": 1,
   "id": "82ac93b4",
   "metadata": {},
   "outputs": [
    {
     "name": "stdout",
     "output_type": "stream",
     "text": [
      "Defaulting to user installation because normal site-packages is not writeable\n",
      "Requirement already satisfied: pygame in c:\\users\\akbot\\appdata\\roaming\\python\\python311\\site-packages (2.6.0)\n",
      "Defaulting to user installation because normal site-packages is not writeable\n"
     ]
    },
    {
     "name": "stderr",
     "output_type": "stream",
     "text": [
      "ERROR: Could not find a version that satisfies the requirement tkinter (from versions: none)\n",
      "ERROR: No matching distribution found for tkinter\n"
     ]
    }
   ],
   "source": [
    "!pip install pygame\n",
    "!pip install tkinter\n"
   ]
  },
  {
   "cell_type": "code",
   "execution_count": 2,
   "id": "1badf69e",
   "metadata": {},
   "outputs": [
    {
     "name": "stdout",
     "output_type": "stream",
     "text": [
      "pygame 2.6.0 (SDL 2.28.4, Python 3.11.5)\n",
      "Hello from the pygame community. https://www.pygame.org/contribute.html\n"
     ]
    }
   ],
   "source": [
    "import tkinter as tk\n",
    "from tkinter import filedialog\n",
    "import pygame\n",
    "import os\n",
    "\n",
    "# Initialize pygame mixer for music playback\n",
    "pygame.mixer.init()\n",
    "\n",
    "# Create the music player class\n",
    "class MusicPlayer:\n",
    "    def __init__(self, root):\n",
    "        self.root = root\n",
    "        self.root.title(\"Music Player\")\n",
    "        self.root.geometry(\"500x400\")\n",
    "\n",
    "        # Initialize music variables\n",
    "        self.music_files = []\n",
    "        self.current_index = 0\n",
    "        self.is_paused = False\n",
    "\n",
    "        # Display currently playing track\n",
    "        self.current_song_label = tk.Label(self.root, text=\"Select a folder to play music\", font=(\"Helvetica\", 12))\n",
    "        self.current_song_label.pack(pady=20)\n",
    "\n",
    "        # Play button\n",
    "        self.play_button = tk.Button(self.root, text=\"Play\", command=self.play_music, width=10)\n",
    "        self.play_button.pack(pady=10)\n",
    "\n",
    "        # Pause button\n",
    "        self.pause_button = tk.Button(self.root, text=\"Pause\", command=self.pause_music, width=10)\n",
    "        self.pause_button.pack(pady=10)\n",
    "\n",
    "        # Stop button\n",
    "        self.stop_button = tk.Button(self.root, text=\"Stop\", command=self.stop_music, width=10)\n",
    "        self.stop_button.pack(pady=10)\n",
    "\n",
    "        # Next button\n",
    "        self.next_button = tk.Button(self.root, text=\"Next\", command=self.next_song, width=10)\n",
    "        self.next_button.pack(pady=10)\n",
    "\n",
    "        # Previous button\n",
    "        self.prev_button = tk.Button(self.root, text=\"Previous\", command=self.prev_song, width=10)\n",
    "        self.prev_button.pack(pady=10)\n",
    "\n",
    "        # Button to select folder\n",
    "        self.select_folder_button = tk.Button(self.root, text=\"Select Folder\", command=self.select_folder, width=15)\n",
    "        self.select_folder_button.pack(pady=20)\n",
    "\n",
    "    def select_folder(self):\n",
    "        folder_selected = filedialog.askdirectory()\n",
    "        if folder_selected:\n",
    "            # List all music files in the selected folder (e.g., .mp3 files)\n",
    "            self.music_files = [os.path.join(folder_selected, file) for file in os.listdir(folder_selected) if file.endswith('.mp3')]\n",
    "            if self.music_files:\n",
    "                self.current_index = 0\n",
    "                self.play_music()\n",
    "\n",
    "    def play_music(self):\n",
    "        if self.music_files:\n",
    "            pygame.mixer.music.load(self.music_files[self.current_index])\n",
    "            pygame.mixer.music.play()\n",
    "            self.current_song_label.config(text=f\"Playing: {os.path.basename(self.music_files[self.current_index])}\")\n",
    "            self.is_paused = False\n",
    "\n",
    "    def pause_music(self):\n",
    "        if not self.is_paused:\n",
    "            pygame.mixer.music.pause()\n",
    "            self.current_song_label.config(text=\"Music Paused\")\n",
    "            self.is_paused = True\n",
    "        else:\n",
    "            pygame.mixer.music.unpause()\n",
    "            self.current_song_label.config(text=f\"Playing: {os.path.basename(self.music_files[self.current_index])}\")\n",
    "            self.is_paused = False\n",
    "\n",
    "    def stop_music(self):\n",
    "        pygame.mixer.music.stop()\n",
    "        self.current_song_label.config(text=\"Music Stopped\")\n",
    "\n",
    "    def next_song(self):\n",
    "        if self.music_files:\n",
    "            self.current_index = (self.current_index + 1) % len(self.music_files)\n",
    "            self.play_music()\n",
    "\n",
    "    def prev_song(self):\n",
    "        if self.music_files:\n",
    "            self.current_index = (self.current_index - 1) % len(self.music_files)\n",
    "            self.play_music()\n",
    "\n",
    "# Create the main window and music player\n",
    "root = tk.Tk()\n",
    "music_player = MusicPlayer(root)\n",
    "\n",
    "# Start the tkinter main loop\n",
    "root.mainloop()\n"
   ]
  },
  {
   "cell_type": "code",
   "execution_count": null,
   "id": "c52b9bdf",
   "metadata": {},
   "outputs": [],
   "source": []
  }
 ],
 "metadata": {
  "kernelspec": {
   "display_name": "Python 3 (ipykernel)",
   "language": "python",
   "name": "python3"
  },
  "language_info": {
   "codemirror_mode": {
    "name": "ipython",
    "version": 3
   },
   "file_extension": ".py",
   "mimetype": "text/x-python",
   "name": "python",
   "nbconvert_exporter": "python",
   "pygments_lexer": "ipython3",
   "version": "3.11.5"
  }
 },
 "nbformat": 4,
 "nbformat_minor": 5
}
