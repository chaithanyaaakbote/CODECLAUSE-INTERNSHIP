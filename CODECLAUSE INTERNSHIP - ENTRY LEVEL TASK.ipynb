{
 "cells": [
  {
   "cell_type": "code",
   "execution_count": 1,
   "id": "b5dfc10d",
   "metadata": {},
   "outputs": [
    {
     "name": "stdout",
     "output_type": "stream",
     "text": [
      "Defaulting to user installation because normal site-packages is not writeable\n",
      "Collecting sounddevice\n",
      "  Obtaining dependency information for sounddevice from https://files.pythonhosted.org/packages/bf/2a/58fa1704b5cf8041564337674790426d39d630e7407e54e17a1212332959/sounddevice-0.5.0-py3-none-win_amd64.whl.metadata\n",
      "  Downloading sounddevice-0.5.0-py3-none-win_amd64.whl.metadata (1.4 kB)\n",
      "Requirement already satisfied: CFFI>=1.0 in c:\\programdata\\anaconda3\\lib\\site-packages (from sounddevice) (1.15.1)\n",
      "Requirement already satisfied: pycparser in c:\\programdata\\anaconda3\\lib\\site-packages (from CFFI>=1.0->sounddevice) (2.21)\n",
      "Downloading sounddevice-0.5.0-py3-none-win_amd64.whl (189 kB)\n",
      "   ---------------------------------------- 0.0/189.8 kB ? eta -:--:--\n",
      "   -- ------------------------------------- 10.2/189.8 kB ? eta -:--:--\n",
      "   ------ -------------------------------- 30.7/189.8 kB 325.1 kB/s eta 0:00:01\n",
      "   ------------------------- -------------- 122.9/189.8 kB 1.0 MB/s eta 0:00:01\n",
      "   -------------------------------------- - 184.3/189.8 kB 1.4 MB/s eta 0:00:01\n",
      "   ---------------------------------------- 189.8/189.8 kB 1.0 MB/s eta 0:00:00\n",
      "Installing collected packages: sounddevice\n",
      "Successfully installed sounddevice-0.5.0\n",
      "Defaulting to user installation because normal site-packages is not writeable\n",
      "Requirement already satisfied: numpy in c:\\programdata\\anaconda3\\lib\\site-packages (1.24.3)\n",
      "Defaulting to user installation because normal site-packages is not writeable\n"
     ]
    },
    {
     "name": "stderr",
     "output_type": "stream",
     "text": [
      "ERROR: Could not find a version that satisfies the requirement tkinter (from versions: none)\n",
      "ERROR: No matching distribution found for tkinter\n"
     ]
    }
   ],
   "source": [
    "!pip install sounddevice\n",
    "!pip install numpy\n",
    "!pip install tkinter\n"
   ]
  },
  {
   "cell_type": "code",
   "execution_count": null,
   "id": "112e1cfd",
   "metadata": {},
   "outputs": [],
   "source": [
    "import sounddevice as sd\n",
    "import numpy as np\n",
    "import wave\n",
    "import tkinter as tk\n",
    "from tkinter import filedialog, messagebox\n",
    "import threading\n",
    "\n",
    "# Global variables for recording\n",
    "fs = 44100  # Sample rate (44.1kHz is standard)\n",
    "recording = False\n",
    "frames = []\n",
    "\n",
    "# Function to start recording\n",
    "def start_recording():\n",
    "    global recording, frames\n",
    "    recording = True\n",
    "    frames = []\n",
    "    # Create a thread for recording to prevent blocking the GUI\n",
    "    threading.Thread(target=record_audio).start()\n",
    "\n",
    "# Function to record audio\n",
    "def record_audio():\n",
    "    global frames\n",
    "    with sd.InputStream(samplerate=fs, channels=2, callback=audio_callback):\n",
    "        while recording:\n",
    "            sd.sleep(100)\n",
    "\n",
    "# Callback function to store audio data\n",
    "def audio_callback(indata, frames_count, time, status):\n",
    "    global frames\n",
    "    frames.append(indata.copy())\n",
    "\n",
    "# Function to stop recording\n",
    "def stop_recording():\n",
    "    global recording\n",
    "    recording = False\n",
    "\n",
    "# Function to save recording\n",
    "def save_recording():\n",
    "    global frames\n",
    "    if len(frames) == 0:\n",
    "        messagebox.showinfo(\"Info\", \"No recording to save!\")\n",
    "        return\n",
    "    \n",
    "    # Open file dialog to save the file\n",
    "    filepath = filedialog.asksaveasfilename(defaultextension=\".wav\", filetypes=[(\"WAV files\", \"*.wav\")])\n",
    "    if filepath:\n",
    "        # Save the recording to a WAV file\n",
    "        with wave.open(filepath, 'wb') as wf:\n",
    "            wf.setnchannels(2)\n",
    "            wf.setsampwidth(2)\n",
    "            wf.setframerate(fs)\n",
    "            wf.writeframes(b''.join(np.array(frames, dtype=np.int16).tobytes()))\n",
    "        messagebox.showinfo(\"Info\", f\"Recording saved as {filepath}\")\n",
    "\n",
    "# Create a simple UI using tkinter\n",
    "def create_ui():\n",
    "    root = tk.Tk()\n",
    "    root.title(\"Audio Recorder\")\n",
    "    \n",
    "    start_button = tk.Button(root, text=\"Start Recording\", command=start_recording)\n",
    "    start_button.pack(pady=10)\n",
    "    \n",
    "    stop_button = tk.Button(root, text=\"Stop Recording\", command=stop_recording)\n",
    "    stop_button.pack(pady=10)\n",
    "    \n",
    "    save_button = tk.Button(root, text=\"Save Recording\", command=save_recording)\n",
    "    save_button.pack(pady=10)\n",
    "    \n",
    "    root.mainloop()\n",
    "\n",
    "# Run the UI\n",
    "create_ui()\n"
   ]
  },
  {
   "cell_type": "code",
   "execution_count": null,
   "id": "e525e1e3",
   "metadata": {},
   "outputs": [],
   "source": []
  }
 ],
 "metadata": {
  "kernelspec": {
   "display_name": "Python 3 (ipykernel)",
   "language": "python",
   "name": "python3"
  },
  "language_info": {
   "codemirror_mode": {
    "name": "ipython",
    "version": 3
   },
   "file_extension": ".py",
   "mimetype": "text/x-python",
   "name": "python",
   "nbconvert_exporter": "python",
   "pygments_lexer": "ipython3",
   "version": "3.11.5"
  }
 },
 "nbformat": 4,
 "nbformat_minor": 5
}
